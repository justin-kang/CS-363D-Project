{
 "cells": [
  {
   "cell_type": "markdown",
   "metadata": {},
   "source": [
    "<h1><center>Darwin Supervised Regression Model Building </center></h1>"
   ]
  },
  {
   "cell_type": "markdown",
   "metadata": {},
   "source": [
    "First, \n",
    "<br>if you have just received a new api key from support, you will need to register your key and create a new user (see Register user cell)\n",
    "\n",
    "Second, in the Environment Variables cell: \n",
    "1. Set your username and password to ensure that you're able to log in successfully\n",
    "2. Set the path to the location of your datasets if you are using your own data.  The path is set for the examples.\n",
    "3. Set the dataset names accordingly\n",
    "\n",
    "Here are a few things to be mindful of:\n",
    "1. For every run, check the job status (i.e. requested, failed, running, completed) and wait for job to complete before proceeding. \n",
    "2. If you're not satisfied with your model and think that Darwin can benefit from extra training, use the resume function."
   ]
  },
  {
   "cell_type": "markdown",
   "metadata": {},
   "source": [
    "### Set Darwin SDK"
   ]
  },
  {
   "cell_type": "code",
   "execution_count": 1,
   "metadata": {
    "collapsed": true
   },
   "outputs": [],
   "source": [
    "from amb_sdk.sdk import DarwinSdk\n",
    "ds = DarwinSdk()\n",
    "ds.set_url('https://amb-demo-api.sparkcognition.com/v1/');"
   ]
  },
  {
   "cell_type": "markdown",
   "metadata": {},
   "source": [
    "### Environment Variables"
   ]
  },
  {
   "cell_type": "code",
   "execution_count": 2,
   "metadata": {
    "collapsed": true
   },
   "outputs": [],
   "source": [
    "#Set your user id and password accordingly\n",
    "USER=\"justin.kang23@gmail.com\"\n",
    "PW=\"psjf52vRYb\"\n",
    "\n",
    "# Set path to datasets - The default below assumes Jupyter was started from amb-sdk/examples/Enterprise/\n",
    "# Modify accordingly if you wish to use your own data\n",
    "PATH_TO_DATASET='data/'\n",
    "DATASET_NAME='data.csv'\n",
    "\n",
    "# A timestamp is used to create a unique name in the event you execute the workflow multiple times or with \n",
    "# different datasets.  File names must be unique in Darwin.\n",
    "import datetime\n",
    "ts = '{:%Y%m%d%H%M%S}'.format(datetime.datetime.now())"
   ]
  },
  {
   "cell_type": "markdown",
   "metadata": {},
   "source": [
    "### Import necessary libraries"
   ]
  },
  {
   "cell_type": "code",
   "execution_count": 3,
   "metadata": {
    "collapsed": true,
    "scrolled": true
   },
   "outputs": [],
   "source": [
    "# Import necessary libraries\n",
    "%matplotlib inline\n",
    "import matplotlib.pyplot as plt\n",
    "import pandas as pd\n",
    "from IPython.display import Image\n",
    "from time import sleep\n",
    "import os\n",
    "import numpy as np\n",
    "from sklearn.metrics import r2_score\n",
    "from scipy import stats"
   ]
  },
  {
   "cell_type": "markdown",
   "metadata": {},
   "source": [
    "### User Login "
   ]
  },
  {
   "cell_type": "code",
   "execution_count": 4,
   "metadata": {
    "collapsed": true
   },
   "outputs": [],
   "source": [
    "status, msg = ds.auth_login_user(USER,PW)\n",
    "if not status:\n",
    "    print(msg)"
   ]
  },
  {
   "cell_type": "markdown",
   "metadata": {},
   "source": [
    "### Data Upload"
   ]
  },
  {
   "cell_type": "markdown",
   "metadata": {},
   "source": [
    "**Feature engineering and adding labels**"
   ]
  },
  {
   "cell_type": "code",
   "execution_count": 5,
   "metadata": {
    "collapsed": true
   },
   "outputs": [],
   "source": [
    "def calculate_adults(row):\n",
    "    return 100-row['% Age 65 and Older']-row['% Age 17 and Under']"
   ]
  },
  {
   "cell_type": "code",
   "execution_count": 142,
   "metadata": {
    "collapsed": true
   },
   "outputs": [],
   "source": [
    "def strip_extra_chars(row, column, char):\n",
    "    if row[column] == 'N/A**':\n",
    "        return np.nan\n",
    "    new_val = float(row[column].strip(char).replace(\",\", \"\"))\n",
    "    if char == \"%\":\n",
    "        return new_val / 100.0 #have to divide by 100 for percents\n",
    "    return new_val"
   ]
  },
  {
   "cell_type": "code",
   "execution_count": 6,
   "metadata": {
    "collapsed": true
   },
   "outputs": [],
   "source": [
    "def drop_features(df):\n",
    "    with open('data/remove_col_names.txt', 'r') as f:\n",
    "        drop_cols=f.read().splitlines()\n",
    "    return df.drop(columns=drop_cols)"
   ]
  },
  {
   "cell_type": "code",
   "execution_count": 250,
   "metadata": {},
   "outputs": [
    {
     "data": {
      "text/html": [
       "<div>\n",
       "<style scoped>\n",
       "    .dataframe tbody tr th:only-of-type {\n",
       "        vertical-align: middle;\n",
       "    }\n",
       "\n",
       "    .dataframe tbody tr th {\n",
       "        vertical-align: top;\n",
       "    }\n",
       "\n",
       "    .dataframe thead th {\n",
       "        text-align: right;\n",
       "    }\n",
       "</style>\n",
       "<table border=\"1\" class=\"dataframe\">\n",
       "  <thead>\n",
       "    <tr style=\"text-align: right;\">\n",
       "      <th></th>\n",
       "      <th>County</th>\n",
       "      <th>2017-2018</th>\n",
       "      <th>Median Age</th>\n",
       "      <th>% Age 17 and Under</th>\n",
       "      <th>% High School Graduate or Higher</th>\n",
       "      <th>% Bachelor s Degree or Higher</th>\n",
       "      <th>Unemployment Rate (%)</th>\n",
       "      <th>Ethnicity: % Hispanic</th>\n",
       "      <th>Race: % White Alone</th>\n",
       "      <th>Race: % African American Alone</th>\n",
       "      <th>Race: % Asian Alone</th>\n",
       "      <th>Total County Tax Rate</th>\n",
       "      <th>Percent Urban</th>\n",
       "      <th>Per Capita Income</th>\n",
       "      <th>Population Density Per Sq Mile</th>\n",
       "      <th>% Age 18-65</th>\n",
       "    </tr>\n",
       "  </thead>\n",
       "  <tbody>\n",
       "    <tr>\n",
       "      <th>0</th>\n",
       "      <td>Anderson</td>\n",
       "      <td>0.0075</td>\n",
       "      <td>39.1</td>\n",
       "      <td>19.58</td>\n",
       "      <td>80.2</td>\n",
       "      <td>11.8</td>\n",
       "      <td>3.6</td>\n",
       "      <td>17.82</td>\n",
       "      <td>75.11</td>\n",
       "      <td>21.49</td>\n",
       "      <td>0.90</td>\n",
       "      <td>0.590892</td>\n",
       "      <td>32.94</td>\n",
       "      <td>33362.0</td>\n",
       "      <td>55.01</td>\n",
       "      <td>65.88</td>\n",
       "    </tr>\n",
       "    <tr>\n",
       "      <th>1</th>\n",
       "      <td>Andrews</td>\n",
       "      <td>0.0107</td>\n",
       "      <td>31.8</td>\n",
       "      <td>30.90</td>\n",
       "      <td>73.8</td>\n",
       "      <td>10.6</td>\n",
       "      <td>3.1</td>\n",
       "      <td>56.19</td>\n",
       "      <td>94.22</td>\n",
       "      <td>1.94</td>\n",
       "      <td>0.75</td>\n",
       "      <td>0.600700</td>\n",
       "      <td>83.50</td>\n",
       "      <td>43105.0</td>\n",
       "      <td>9.85</td>\n",
       "      <td>58.57</td>\n",
       "    </tr>\n",
       "    <tr>\n",
       "      <th>2</th>\n",
       "      <td>Angelina</td>\n",
       "      <td>0.0067</td>\n",
       "      <td>37.1</td>\n",
       "      <td>25.81</td>\n",
       "      <td>79.9</td>\n",
       "      <td>15.7</td>\n",
       "      <td>5.1</td>\n",
       "      <td>22.18</td>\n",
       "      <td>81.27</td>\n",
       "      <td>15.44</td>\n",
       "      <td>1.17</td>\n",
       "      <td>0.458800</td>\n",
       "      <td>56.92</td>\n",
       "      <td>37555.0</td>\n",
       "      <td>108.77</td>\n",
       "      <td>58.40</td>\n",
       "    </tr>\n",
       "    <tr>\n",
       "      <th>3</th>\n",
       "      <td>Aransas</td>\n",
       "      <td>0.0149</td>\n",
       "      <td>49.3</td>\n",
       "      <td>18.73</td>\n",
       "      <td>83.2</td>\n",
       "      <td>20.2</td>\n",
       "      <td>6.8</td>\n",
       "      <td>27.66</td>\n",
       "      <td>93.05</td>\n",
       "      <td>1.79</td>\n",
       "      <td>1.93</td>\n",
       "      <td>0.403315</td>\n",
       "      <td>72.74</td>\n",
       "      <td>44820.0</td>\n",
       "      <td>91.87</td>\n",
       "      <td>53.97</td>\n",
       "    </tr>\n",
       "    <tr>\n",
       "      <th>4</th>\n",
       "      <td>Archer</td>\n",
       "      <td>0.0081</td>\n",
       "      <td>44.3</td>\n",
       "      <td>21.77</td>\n",
       "      <td>90.1</td>\n",
       "      <td>21.8</td>\n",
       "      <td>3.4</td>\n",
       "      <td>8.68</td>\n",
       "      <td>95.58</td>\n",
       "      <td>1.03</td>\n",
       "      <td>0.43</td>\n",
       "      <td>0.675030</td>\n",
       "      <td>11.01</td>\n",
       "      <td>47110.0</td>\n",
       "      <td>10.03</td>\n",
       "      <td>58.34</td>\n",
       "    </tr>\n",
       "  </tbody>\n",
       "</table>\n",
       "</div>"
      ],
      "text/plain": [
       "     County  2017-2018  Median Age  % Age 17 and Under  \\\n",
       "0  Anderson     0.0075        39.1               19.58   \n",
       "1   Andrews     0.0107        31.8               30.90   \n",
       "2  Angelina     0.0067        37.1               25.81   \n",
       "3   Aransas     0.0149        49.3               18.73   \n",
       "4    Archer     0.0081        44.3               21.77   \n",
       "\n",
       "   % High School Graduate or Higher  % Bachelor s Degree or Higher  \\\n",
       "0                              80.2                           11.8   \n",
       "1                              73.8                           10.6   \n",
       "2                              79.9                           15.7   \n",
       "3                              83.2                           20.2   \n",
       "4                              90.1                           21.8   \n",
       "\n",
       "   Unemployment Rate (%)  Ethnicity: % Hispanic  Race: % White Alone  \\\n",
       "0                    3.6                  17.82                75.11   \n",
       "1                    3.1                  56.19                94.22   \n",
       "2                    5.1                  22.18                81.27   \n",
       "3                    6.8                  27.66                93.05   \n",
       "4                    3.4                   8.68                95.58   \n",
       "\n",
       "   Race: % African American Alone  Race: % Asian Alone  Total County Tax Rate  \\\n",
       "0                           21.49                 0.90               0.590892   \n",
       "1                            1.94                 0.75               0.600700   \n",
       "2                           15.44                 1.17               0.458800   \n",
       "3                            1.79                 1.93               0.403315   \n",
       "4                            1.03                 0.43               0.675030   \n",
       "\n",
       "   Percent Urban  Per Capita Income  Population Density Per Sq Mile  \\\n",
       "0          32.94            33362.0                           55.01   \n",
       "1          83.50            43105.0                            9.85   \n",
       "2          56.92            37555.0                          108.77   \n",
       "3          72.74            44820.0                           91.87   \n",
       "4          11.01            47110.0                           10.03   \n",
       "\n",
       "   % Age 18-65  \n",
       "0        65.88  \n",
       "1        58.57  \n",
       "2        58.40  \n",
       "3        53.97  \n",
       "4        58.34  "
      ]
     },
     "execution_count": 250,
     "metadata": {},
     "output_type": "execute_result"
    }
   ],
   "source": [
    "# Preview dataset\n",
    "df = pd.read_csv(os.path.join(PATH_TO_DATASET, 'exemptions.csv'))\n",
    "df.drop(df.tail(1).index,inplace=True)\n",
    "\n",
    "#Collect all possible data and combine into a single dataframe\n",
    "for file in os.listdir(PATH_TO_DATASET):\n",
    "    if 'csv' in file and 'exemptions' not in file: #dont add exemptions twice\n",
    "        df2=pd.read_csv(os.path.join(PATH_TO_DATASET, file))\n",
    "        df=df.merge(df2, on='County')\n",
    "\n",
    "#Feature engineering - create \"% Adults\" feature from other age features\n",
    "df['% Age 18-65']=df.apply (lambda row: calculate_adults(row), axis=1)\n",
    "\n",
    "#Feature selection - remove features that were likely to have no effect \n",
    "df=drop_features(df)\n",
    "\n",
    "#Data cleaning - remove extranous characters and convert strings to floats\n",
    "for i in range(1, 9):\n",
    "    df.iloc[:,i]=df.apply( lambda row: strip_extra_chars(row, i, \"%\"), axis=1)\n",
    "\n",
    "strip_dollar = ['Total County Tax Rate', 'Per Capita Income']\n",
    "for category in strip_dollar:\n",
    "    df[category]=df.apply( lambda row: strip_extra_chars(row, category, \"$\"), axis=1)\n",
    "\n",
    "labeled_df = df.copy(deep=True)\n",
    "\n",
    "#More feature selection - Drop non-sociodemographic features\n",
    "for i in range(1, 8):\n",
    "    labeled_df = labeled_df.drop(labeled_df.columns[1], axis=1)\n",
    "labeled_df.to_csv('pruned_data.csv', index=False)\n",
    "labeled_df.head()\n"
   ]
  },
  {
   "cell_type": "code",
   "execution_count": 251,
   "metadata": {},
   "outputs": [
    {
     "data": {
      "text/html": [
       "<div>\n",
       "<style scoped>\n",
       "    .dataframe tbody tr th:only-of-type {\n",
       "        vertical-align: middle;\n",
       "    }\n",
       "\n",
       "    .dataframe tbody tr th {\n",
       "        vertical-align: top;\n",
       "    }\n",
       "\n",
       "    .dataframe thead th {\n",
       "        text-align: right;\n",
       "    }\n",
       "</style>\n",
       "<table border=\"1\" class=\"dataframe\">\n",
       "  <thead>\n",
       "    <tr style=\"text-align: right;\">\n",
       "      <th></th>\n",
       "      <th>County</th>\n",
       "      <th>2017-2018</th>\n",
       "      <th>Median Age</th>\n",
       "      <th>% Age 17 and Under</th>\n",
       "      <th>% High School Graduate or Higher</th>\n",
       "      <th>% Bachelor s Degree or Higher</th>\n",
       "      <th>Unemployment Rate (%)</th>\n",
       "      <th>Ethnicity: % Hispanic</th>\n",
       "      <th>Race: % White Alone</th>\n",
       "      <th>Race: % African American Alone</th>\n",
       "      <th>Race: % Asian Alone</th>\n",
       "      <th>Total County Tax Rate</th>\n",
       "      <th>Percent Urban</th>\n",
       "      <th>Per Capita Income</th>\n",
       "      <th>Population Density Per Sq Mile</th>\n",
       "      <th>% Age 18-65</th>\n",
       "    </tr>\n",
       "  </thead>\n",
       "  <tbody>\n",
       "    <tr>\n",
       "      <th>49</th>\n",
       "      <td>Coryell</td>\n",
       "      <td>0.0101</td>\n",
       "      <td>32.1</td>\n",
       "      <td>23.12</td>\n",
       "      <td>87.6</td>\n",
       "      <td>15.1</td>\n",
       "      <td>4.3</td>\n",
       "      <td>18.29</td>\n",
       "      <td>73.76</td>\n",
       "      <td>17.49</td>\n",
       "      <td>2.14</td>\n",
       "      <td>0.49366</td>\n",
       "      <td>80.58</td>\n",
       "      <td>32904.0</td>\n",
       "      <td>71.66</td>\n",
       "      <td>66.86</td>\n",
       "    </tr>\n",
       "    <tr>\n",
       "      <th>50</th>\n",
       "      <td>Cottle</td>\n",
       "      <td>0.0000</td>\n",
       "      <td>46.1</td>\n",
       "      <td>22.57</td>\n",
       "      <td>72.2</td>\n",
       "      <td>16.2</td>\n",
       "      <td>4.3</td>\n",
       "      <td>24.44</td>\n",
       "      <td>87.45</td>\n",
       "      <td>9.66</td>\n",
       "      <td>0.07</td>\n",
       "      <td>0.77870</td>\n",
       "      <td>0.00</td>\n",
       "      <td>60247.0</td>\n",
       "      <td>1.67</td>\n",
       "      <td>52.70</td>\n",
       "    </tr>\n",
       "    <tr>\n",
       "      <th>51</th>\n",
       "      <td>Crane</td>\n",
       "      <td>0.0037</td>\n",
       "      <td>33.5</td>\n",
       "      <td>29.96</td>\n",
       "      <td>72.8</td>\n",
       "      <td>12.9</td>\n",
       "      <td>5.3</td>\n",
       "      <td>63.31</td>\n",
       "      <td>91.98</td>\n",
       "      <td>3.80</td>\n",
       "      <td>0.89</td>\n",
       "      <td>0.78000</td>\n",
       "      <td>89.30</td>\n",
       "      <td>39596.0</td>\n",
       "      <td>5.57</td>\n",
       "      <td>58.14</td>\n",
       "    </tr>\n",
       "    <tr>\n",
       "      <th>52</th>\n",
       "      <td>Crockett</td>\n",
       "      <td>0.0042</td>\n",
       "      <td>40.0</td>\n",
       "      <td>25.42</td>\n",
       "      <td>73.7</td>\n",
       "      <td>11.0</td>\n",
       "      <td>4.1</td>\n",
       "      <td>65.68</td>\n",
       "      <td>94.00</td>\n",
       "      <td>1.66</td>\n",
       "      <td>0.87</td>\n",
       "      <td>0.95231</td>\n",
       "      <td>77.25</td>\n",
       "      <td>36757.0</td>\n",
       "      <td>1.32</td>\n",
       "      <td>57.52</td>\n",
       "    </tr>\n",
       "    <tr>\n",
       "      <th>53</th>\n",
       "      <td>Crosby</td>\n",
       "      <td>0.0102</td>\n",
       "      <td>37.5</td>\n",
       "      <td>26.94</td>\n",
       "      <td>72.3</td>\n",
       "      <td>12.1</td>\n",
       "      <td>4.1</td>\n",
       "      <td>56.28</td>\n",
       "      <td>93.02</td>\n",
       "      <td>3.87</td>\n",
       "      <td>0.22</td>\n",
       "      <td>0.63000</td>\n",
       "      <td>0.00</td>\n",
       "      <td>34530.0</td>\n",
       "      <td>6.73</td>\n",
       "      <td>54.96</td>\n",
       "    </tr>\n",
       "  </tbody>\n",
       "</table>\n",
       "</div>"
      ],
      "text/plain": [
       "      County  2017-2018  Median Age  % Age 17 and Under  \\\n",
       "49   Coryell     0.0101        32.1               23.12   \n",
       "50    Cottle     0.0000        46.1               22.57   \n",
       "51     Crane     0.0037        33.5               29.96   \n",
       "52  Crockett     0.0042        40.0               25.42   \n",
       "53    Crosby     0.0102        37.5               26.94   \n",
       "\n",
       "    % High School Graduate or Higher  % Bachelor s Degree or Higher  \\\n",
       "49                              87.6                           15.1   \n",
       "50                              72.2                           16.2   \n",
       "51                              72.8                           12.9   \n",
       "52                              73.7                           11.0   \n",
       "53                              72.3                           12.1   \n",
       "\n",
       "    Unemployment Rate (%)  Ethnicity: % Hispanic  Race: % White Alone  \\\n",
       "49                    4.3                  18.29                73.76   \n",
       "50                    4.3                  24.44                87.45   \n",
       "51                    5.3                  63.31                91.98   \n",
       "52                    4.1                  65.68                94.00   \n",
       "53                    4.1                  56.28                93.02   \n",
       "\n",
       "    Race: % African American Alone  Race: % Asian Alone  \\\n",
       "49                           17.49                 2.14   \n",
       "50                            9.66                 0.07   \n",
       "51                            3.80                 0.89   \n",
       "52                            1.66                 0.87   \n",
       "53                            3.87                 0.22   \n",
       "\n",
       "    Total County Tax Rate  Percent Urban  Per Capita Income  \\\n",
       "49                0.49366          80.58            32904.0   \n",
       "50                0.77870           0.00            60247.0   \n",
       "51                0.78000          89.30            39596.0   \n",
       "52                0.95231          77.25            36757.0   \n",
       "53                0.63000           0.00            34530.0   \n",
       "\n",
       "    Population Density Per Sq Mile  % Age 18-65  \n",
       "49                           71.66        66.86  \n",
       "50                            1.67        52.70  \n",
       "51                            5.57        58.14  \n",
       "52                            1.32        57.52  \n",
       "53                            6.73        54.96  "
      ]
     },
     "execution_count": 251,
     "metadata": {},
     "output_type": "execute_result"
    }
   ],
   "source": [
    "#Select 80% of data set to train the model\n",
    "start =int(labeled_df.shape[0]/5)\n",
    "training_set = labeled_df.iloc[start:, :]\n",
    "training_set.to_csv('training_data.csv', index=False)\n",
    "training_set.head()"
   ]
  },
  {
   "cell_type": "markdown",
   "metadata": {},
   "source": [
    "**Upload dataset to Darwin**"
   ]
  },
  {
   "cell_type": "code",
   "execution_count": 252,
   "metadata": {},
   "outputs": [
    {
     "data": {
      "text/plain": [
       "(True, None)"
      ]
     },
     "execution_count": 252,
     "metadata": {},
     "output_type": "execute_result"
    }
   ],
   "source": [
    "#Clear existing dataset in database\n",
    "ds.delete_dataset(\"training_data.csv\")"
   ]
  },
  {
   "cell_type": "code",
   "execution_count": 253,
   "metadata": {
    "collapsed": true
   },
   "outputs": [],
   "source": [
    "# Upload dataset to Darwin\n",
    "status, dataset = ds.upload_dataset(os.path.join(\"./\", 'training_data.csv'))\n",
    "if not status:\n",
    "    print(dataset)"
   ]
  },
  {
   "cell_type": "markdown",
   "metadata": {},
   "source": [
    "**Clean Dataset**"
   ]
  },
  {
   "cell_type": "code",
   "execution_count": 254,
   "metadata": {},
   "outputs": [
    {
     "name": "stdout",
     "output_type": "stream",
     "text": [
      "{'status': 'Requested', 'starttime': '2019-04-20T19:34:48.502328', 'endtime': None, 'percent_complete': 0, 'job_type': 'CleanDataTiny', 'loss': None, 'generations': None, 'dataset_names': ['training_data.csv'], 'artifact_names': ['69ec97bf84364da592f2803f34498be6'], 'model_name': None, 'job_error': None}\n",
      "{'status': 'Complete', 'starttime': '2019-04-20T19:34:48.502328', 'endtime': '2019-04-20T19:34:50.906729', 'percent_complete': 100, 'job_type': 'CleanDataTiny', 'loss': None, 'generations': None, 'dataset_names': ['training_data.csv'], 'artifact_names': ['69ec97bf84364da592f2803f34498be6'], 'model_name': None, 'job_error': ''}\n"
     ]
    }
   ],
   "source": [
    "# Clean datset using ffill for non-present values\n",
    "target = \"2017-2018\"\n",
    "status, job_id = ds.clean_data('training_data.csv', impute='ffill', target = target)\n",
    "\n",
    "if status:\n",
    "    ds.wait_for_job(job_id['job_name'])\n",
    "else:\n",
    "    print(job_id)"
   ]
  },
  {
   "cell_type": "markdown",
   "metadata": {},
   "source": [
    "### Create and Train Model"
   ]
  },
  {
   "cell_type": "markdown",
   "metadata": {},
   "source": [
    "We will now build a model that will learn the class labels in the target column.\n",
    "In the default boston dataset, the target column is \"Assessed_Value\". \n",
    "You will have to specify your own target name for your custom dataset. \n",
    "You can also increase max_train_time for longer training."
   ]
  },
  {
   "cell_type": "code",
   "execution_count": 256,
   "metadata": {},
   "outputs": [
    {
     "name": "stdout",
     "output_type": "stream",
     "text": [
      "{'status': 'Taken', 'starttime': '2019-04-20T19:35:15.866111', 'endtime': None, 'percent_complete': 0, 'job_type': 'TrainModel', 'loss': None, 'generations': 0, 'dataset_names': ['training_data.csv'], 'artifact_names': None, 'model_name': 'Labels_model8_20190420165230', 'job_error': None}\n",
      "{'status': 'Running', 'starttime': '2019-04-20T19:35:15.866111', 'endtime': None, 'percent_complete': 3, 'job_type': 'TrainModel', 'loss': 0.4183467924594879, 'generations': 5, 'dataset_names': ['training_data.csv'], 'artifact_names': None, 'model_name': 'Labels_model8_20190420165230', 'job_error': ''}\n",
      "{'status': 'Running', 'starttime': '2019-04-20T19:35:15.866111', 'endtime': None, 'percent_complete': 15, 'job_type': 'TrainModel', 'loss': 0.35092800855636597, 'generations': 5, 'dataset_names': ['training_data.csv'], 'artifact_names': None, 'model_name': 'Labels_model8_20190420165230', 'job_error': ''}\n",
      "{'status': 'Complete', 'starttime': '2019-04-20T19:35:15.866111', 'endtime': '2019-04-20T19:35:56.547252', 'percent_complete': 100, 'job_type': 'TrainModel', 'loss': 0.35092800855636597, 'generations': 5, 'dataset_names': ['training_data.csv'], 'artifact_names': None, 'model_name': 'Labels_model8_20190420165230', 'job_error': ''}\n"
     ]
    }
   ],
   "source": [
    "#Create and train model\n",
    "model = \"Labels\" + \"_model8_\" + ts\n",
    "status, job_id = ds.create_model(dataset_names = \"training_data.csv\", \\\n",
    "                                 model_name =  model, \\\n",
    "                                 max_train_time = '00:02')\n",
    "if status:\n",
    "    ds.wait_for_job(job_id['job_name'])\n",
    "else:\n",
    "    print(job_id)"
   ]
  },
  {
   "cell_type": "code",
   "execution_count": 257,
   "metadata": {},
   "outputs": [
    {
     "name": "stdout",
     "output_type": "stream",
     "text": [
      "{'status': 'Requested', 'starttime': '2019-04-20T19:36:08.865284', 'endtime': None, 'percent_complete': 0, 'job_type': 'UpdateModel', 'loss': 0.35092800855636597, 'generations': 5, 'dataset_names': ['training_data.csv'], 'artifact_names': None, 'model_name': 'Labels_model8_20190420165230', 'job_error': None}\n",
      "{'status': 'Running', 'starttime': '2019-04-20T19:36:08.865284', 'endtime': None, 'percent_complete': 0, 'job_type': 'UpdateModel', 'loss': 0.35092800855636597, 'generations': 8, 'dataset_names': ['training_data.csv'], 'artifact_names': None, 'model_name': 'Labels_model8_20190420165230', 'job_error': ''}\n",
      "{'status': 'Running', 'starttime': '2019-04-20T19:36:08.865284', 'endtime': None, 'percent_complete': 6, 'job_type': 'UpdateModel', 'loss': 0.3387911915779114, 'generations': 8, 'dataset_names': ['training_data.csv'], 'artifact_names': None, 'model_name': 'Labels_model8_20190420165230', 'job_error': ''}\n",
      "{'status': 'Complete', 'starttime': '2019-04-20T19:36:08.865284', 'endtime': '2019-04-20T19:36:42.320655', 'percent_complete': 100, 'job_type': 'UpdateModel', 'loss': 0.3387911915779114, 'generations': 8, 'dataset_names': ['training_data.csv'], 'artifact_names': None, 'model_name': 'Labels_model8_20190420165230', 'job_error': ''}\n"
     ]
    }
   ],
   "source": [
    "# Train some more\n",
    "status, job_id = ds.resume_training_model(dataset_names = \"training_data.csv\",\n",
    "                                          model_name = model,\n",
    "                                          max_train_time = '00:05')\n",
    "                                          \n",
    "if status:\n",
    "    ds.wait_for_job(job_id['job_name'])\n",
    "else:\n",
    "    print(job_id)"
   ]
  },
  {
   "cell_type": "markdown",
   "metadata": {},
   "source": [
    "### Analyze Data\n",
    "**Analyze model provides feature importance ranked by the model. \n",
    "It indicates a general view of which features pose a bigger impact on the model**"
   ]
  },
  {
   "cell_type": "code",
   "execution_count": 258,
   "metadata": {},
   "outputs": [
    {
     "name": "stdout",
     "output_type": "stream",
     "text": [
      "{'status': 'Running', 'starttime': '2019-04-20T19:37:11.184365', 'endtime': None, 'percent_complete': 0, 'job_type': 'AnalyzeModel', 'loss': 0.3387911915779114, 'generations': 8, 'dataset_names': None, 'artifact_names': ['a96ca75e3e9d4f4a81179d20e3f7e363'], 'model_name': 'Labels_model8_20190420165230', 'job_error': ''}\n",
      "{'status': 'Complete', 'starttime': '2019-04-20T19:37:11.184365', 'endtime': '2019-04-20T19:37:14.469233', 'percent_complete': 100, 'job_type': 'AnalyzeModel', 'loss': 0.3387911915779114, 'generations': 8, 'dataset_names': None, 'artifact_names': ['a96ca75e3e9d4f4a81179d20e3f7e363'], 'model_name': 'Labels_model8_20190420165230', 'job_error': ''}\n"
     ]
    }
   ],
   "source": [
    "# Retrieve feature importance of built model\n",
    "status, artifact = ds.analyze_model(model)\n",
    "sleep(1)\n",
    "if status:\n",
    "    ds.wait_for_job(artifact['job_name'])\n",
    "else:\n",
    "    print(artifact)\n",
    "status, feature_importance = ds.download_artifact(artifact['artifact_name'])"
   ]
  },
  {
   "cell_type": "code",
   "execution_count": 259,
   "metadata": {},
   "outputs": [
    {
     "data": {
      "text/plain": [
       "Unemployment Rate (%)               0.405357\n",
       "% Bachelor s Degree or Higher       0.373715\n",
       "Per Capita Income                   0.082817\n",
       "Ethnicity: % Hispanic               0.020497\n",
       "% Age 18-65                         0.016874\n",
       "% High School Graduate or Higher    0.014746\n",
       "Race: % White Alone                 0.013880\n",
       "Total County Tax Rate               0.013560\n",
       "Race: % African American Alone      0.011784\n",
       "% Age 17 and Under                  0.010267\n",
       "dtype: float64"
      ]
     },
     "execution_count": 259,
     "metadata": {},
     "output_type": "execute_result"
    }
   ],
   "source": [
    "#Top 10 most important features\n",
    "feature_importance[:10]"
   ]
  },
  {
   "cell_type": "code",
   "execution_count": 260,
   "metadata": {},
   "outputs": [
    {
     "data": {
      "text/plain": [
       "Percent Urban                      0.009973\n",
       "Median Age                         0.009482\n",
       "Race: % Asian Alone                0.008569\n",
       " Population Density Per Sq Mile    0.008481\n",
       "dtype: float64"
      ]
     },
     "execution_count": 260,
     "metadata": {},
     "output_type": "execute_result"
    }
   ],
   "source": [
    "#Least important features\n",
    "feature_importance[10:]"
   ]
  },
  {
   "cell_type": "markdown",
   "metadata": {},
   "source": [
    "### Predictions\n",
    "**Perform model prediction on the the training dataset.**"
   ]
  },
  {
   "cell_type": "code",
   "execution_count": 261,
   "metadata": {},
   "outputs": [
    {
     "name": "stdout",
     "output_type": "stream",
     "text": [
      "{'status': 'Running', 'starttime': '2019-04-20T19:38:06.049222', 'endtime': None, 'percent_complete': 0, 'job_type': 'RunModel', 'loss': 0.3387911915779114, 'generations': 8, 'dataset_names': ['training_data.csv'], 'artifact_names': ['5d28a44bd65747c784ffd500b8db30e6'], 'model_name': 'Labels_model8_20190420165230', 'job_error': ''}\n",
      "{'status': 'Complete', 'starttime': '2019-04-20T19:38:06.049222', 'endtime': '2019-04-20T19:38:14.183884', 'percent_complete': 100, 'job_type': 'RunModel', 'loss': 0.3387911915779114, 'generations': 8, 'dataset_names': ['training_data.csv'], 'artifact_names': ['5d28a44bd65747c784ffd500b8db30e6'], 'model_name': 'Labels_model8_20190420165230', 'job_error': ''}\n"
     ]
    },
    {
     "data": {
      "text/plain": [
       "(True, 'Job completed')"
      ]
     },
     "execution_count": 261,
     "metadata": {},
     "output_type": "execute_result"
    }
   ],
   "source": [
    "#Run model on training data\n",
    "status, artifact = ds.run_model(\"training_data.csv\", model)\n",
    "sleep(1)\n",
    "ds.wait_for_job(artifact['job_name'])"
   ]
  },
  {
   "cell_type": "markdown",
   "metadata": {},
   "source": [
    "Download predictions from Darwin's server."
   ]
  },
  {
   "cell_type": "code",
   "execution_count": 262,
   "metadata": {},
   "outputs": [
    {
     "data": {
      "text/html": [
       "<div>\n",
       "<style scoped>\n",
       "    .dataframe tbody tr th:only-of-type {\n",
       "        vertical-align: middle;\n",
       "    }\n",
       "\n",
       "    .dataframe tbody tr th {\n",
       "        vertical-align: top;\n",
       "    }\n",
       "\n",
       "    .dataframe thead th {\n",
       "        text-align: right;\n",
       "    }\n",
       "</style>\n",
       "<table border=\"1\" class=\"dataframe\">\n",
       "  <thead>\n",
       "    <tr style=\"text-align: right;\">\n",
       "      <th></th>\n",
       "      <th>2017-2018</th>\n",
       "    </tr>\n",
       "  </thead>\n",
       "  <tbody>\n",
       "    <tr>\n",
       "      <th>0</th>\n",
       "      <td>0.005625</td>\n",
       "    </tr>\n",
       "    <tr>\n",
       "      <th>1</th>\n",
       "      <td>0.011961</td>\n",
       "    </tr>\n",
       "    <tr>\n",
       "      <th>2</th>\n",
       "      <td>0.004195</td>\n",
       "    </tr>\n",
       "    <tr>\n",
       "      <th>3</th>\n",
       "      <td>0.004121</td>\n",
       "    </tr>\n",
       "    <tr>\n",
       "      <th>4</th>\n",
       "      <td>0.007589</td>\n",
       "    </tr>\n",
       "  </tbody>\n",
       "</table>\n",
       "</div>"
      ],
      "text/plain": [
       "   2017-2018\n",
       "0   0.005625\n",
       "1   0.011961\n",
       "2   0.004195\n",
       "3   0.004121\n",
       "4   0.007589"
      ]
     },
     "execution_count": 262,
     "metadata": {},
     "output_type": "execute_result"
    }
   ],
   "source": [
    "status, prediction = ds.download_artifact(artifact['artifact_name'])\n",
    "prediction.head()"
   ]
  },
  {
   "cell_type": "markdown",
   "metadata": {},
   "source": [
    "Create plots comparing predictions with actual target"
   ]
  },
  {
   "cell_type": "code",
   "execution_count": 265,
   "metadata": {
    "scrolled": true
   },
   "outputs": [
    {
     "name": "stdout",
     "output_type": "stream",
     "text": [
      "R^2 :  0.2745013858765122\n"
     ]
    },
    {
     "data": {
      "image/png": "[encoded data removed]",
      "text/plain": [
       "<matplotlib.figure.Figure at 0x11625d278>"
      ]
     },
     "metadata": {},
     "output_type": "display_data"
    }
   ],
   "source": [
    "#Plot predictions vs actual\n",
    "plt.plot(training_set[\"2017-2018\"], prediction[\"2017-2018\"], '.')\n",
    "print('R^2 : ', r2_score(training_set[\"2017-2018\"], prediction[\"2017-2018\"]))\n",
    "#x axis is action, y is predicted"
   ]
  },
  {
   "cell_type": "markdown",
   "metadata": {},
   "source": [
    "### Find out which machine learning model did Darwin use:"
   ]
  },
  {
   "cell_type": "code",
   "execution_count": 266,
   "metadata": {},
   "outputs": [
    {
     "name": "stdout",
     "output_type": "stream",
     "text": [
      "[{'layer 1': {'type': 'LinearGene', 'parameters': {'activation': 'relu', 'numunits': 2}}}, {'layer 2': {'type': 'LinearGene', 'parameters': {'activation': 'hardtanh', 'numunits': 58}}}, {'layer 3': {'type': 'LinearGene', 'parameters': {'activation': 'leakyrelu', 'numunits': 1}}}]\n"
     ]
    }
   ],
   "source": [
    "status, model_type = ds.lookup_model_name(model)\n",
    "print(model_type['description']['best_genome'])"
   ]
  },
  {
   "cell_type": "markdown",
   "metadata": {},
   "source": [
    "Perform model prediction on a test dataset that wasn't used in training. \n",
    "Upload test dataset"
   ]
  },
  {
   "cell_type": "code",
   "execution_count": 267,
   "metadata": {},
   "outputs": [
    {
     "data": {
      "text/html": [
       "<div>\n",
       "<style scoped>\n",
       "    .dataframe tbody tr th:only-of-type {\n",
       "        vertical-align: middle;\n",
       "    }\n",
       "\n",
       "    .dataframe tbody tr th {\n",
       "        vertical-align: top;\n",
       "    }\n",
       "\n",
       "    .dataframe thead th {\n",
       "        text-align: right;\n",
       "    }\n",
       "</style>\n",
       "<table border=\"1\" class=\"dataframe\">\n",
       "  <thead>\n",
       "    <tr style=\"text-align: right;\">\n",
       "      <th></th>\n",
       "      <th>County</th>\n",
       "      <th>2017-2018</th>\n",
       "      <th>Median Age</th>\n",
       "      <th>% Age 17 and Under</th>\n",
       "      <th>% High School Graduate or Higher</th>\n",
       "      <th>% Bachelor s Degree or Higher</th>\n",
       "      <th>Unemployment Rate (%)</th>\n",
       "      <th>Ethnicity: % Hispanic</th>\n",
       "      <th>Race: % White Alone</th>\n",
       "      <th>Race: % African American Alone</th>\n",
       "      <th>Race: % Asian Alone</th>\n",
       "      <th>Total County Tax Rate</th>\n",
       "      <th>Percent Urban</th>\n",
       "      <th>Per Capita Income</th>\n",
       "      <th>Population Density Per Sq Mile</th>\n",
       "      <th>% Age 18-65</th>\n",
       "    </tr>\n",
       "  </thead>\n",
       "  <tbody>\n",
       "    <tr>\n",
       "      <th>0</th>\n",
       "      <td>Anderson</td>\n",
       "      <td>0.0075</td>\n",
       "      <td>39.1</td>\n",
       "      <td>19.58</td>\n",
       "      <td>80.2</td>\n",
       "      <td>11.8</td>\n",
       "      <td>3.6</td>\n",
       "      <td>17.82</td>\n",
       "      <td>75.11</td>\n",
       "      <td>21.49</td>\n",
       "      <td>0.90</td>\n",
       "      <td>0.590892</td>\n",
       "      <td>32.94</td>\n",
       "      <td>33362.0</td>\n",
       "      <td>55.01</td>\n",
       "      <td>65.88</td>\n",
       "    </tr>\n",
       "    <tr>\n",
       "      <th>1</th>\n",
       "      <td>Andrews</td>\n",
       "      <td>0.0107</td>\n",
       "      <td>31.8</td>\n",
       "      <td>30.90</td>\n",
       "      <td>73.8</td>\n",
       "      <td>10.6</td>\n",
       "      <td>3.1</td>\n",
       "      <td>56.19</td>\n",
       "      <td>94.22</td>\n",
       "      <td>1.94</td>\n",
       "      <td>0.75</td>\n",
       "      <td>0.600700</td>\n",
       "      <td>83.50</td>\n",
       "      <td>43105.0</td>\n",
       "      <td>9.85</td>\n",
       "      <td>58.57</td>\n",
       "    </tr>\n",
       "    <tr>\n",
       "      <th>2</th>\n",
       "      <td>Angelina</td>\n",
       "      <td>0.0067</td>\n",
       "      <td>37.1</td>\n",
       "      <td>25.81</td>\n",
       "      <td>79.9</td>\n",
       "      <td>15.7</td>\n",
       "      <td>5.1</td>\n",
       "      <td>22.18</td>\n",
       "      <td>81.27</td>\n",
       "      <td>15.44</td>\n",
       "      <td>1.17</td>\n",
       "      <td>0.458800</td>\n",
       "      <td>56.92</td>\n",
       "      <td>37555.0</td>\n",
       "      <td>108.77</td>\n",
       "      <td>58.40</td>\n",
       "    </tr>\n",
       "    <tr>\n",
       "      <th>3</th>\n",
       "      <td>Aransas</td>\n",
       "      <td>0.0149</td>\n",
       "      <td>49.3</td>\n",
       "      <td>18.73</td>\n",
       "      <td>83.2</td>\n",
       "      <td>20.2</td>\n",
       "      <td>6.8</td>\n",
       "      <td>27.66</td>\n",
       "      <td>93.05</td>\n",
       "      <td>1.79</td>\n",
       "      <td>1.93</td>\n",
       "      <td>0.403315</td>\n",
       "      <td>72.74</td>\n",
       "      <td>44820.0</td>\n",
       "      <td>91.87</td>\n",
       "      <td>53.97</td>\n",
       "    </tr>\n",
       "    <tr>\n",
       "      <th>4</th>\n",
       "      <td>Archer</td>\n",
       "      <td>0.0081</td>\n",
       "      <td>44.3</td>\n",
       "      <td>21.77</td>\n",
       "      <td>90.1</td>\n",
       "      <td>21.8</td>\n",
       "      <td>3.4</td>\n",
       "      <td>8.68</td>\n",
       "      <td>95.58</td>\n",
       "      <td>1.03</td>\n",
       "      <td>0.43</td>\n",
       "      <td>0.675030</td>\n",
       "      <td>11.01</td>\n",
       "      <td>47110.0</td>\n",
       "      <td>10.03</td>\n",
       "      <td>58.34</td>\n",
       "    </tr>\n",
       "  </tbody>\n",
       "</table>\n",
       "</div>"
      ],
      "text/plain": [
       "     County  2017-2018  Median Age  % Age 17 and Under  \\\n",
       "0  Anderson     0.0075        39.1               19.58   \n",
       "1   Andrews     0.0107        31.8               30.90   \n",
       "2  Angelina     0.0067        37.1               25.81   \n",
       "3   Aransas     0.0149        49.3               18.73   \n",
       "4    Archer     0.0081        44.3               21.77   \n",
       "\n",
       "   % High School Graduate or Higher  % Bachelor s Degree or Higher  \\\n",
       "0                              80.2                           11.8   \n",
       "1                              73.8                           10.6   \n",
       "2                              79.9                           15.7   \n",
       "3                              83.2                           20.2   \n",
       "4                              90.1                           21.8   \n",
       "\n",
       "   Unemployment Rate (%)  Ethnicity: % Hispanic  Race: % White Alone  \\\n",
       "0                    3.6                  17.82                75.11   \n",
       "1                    3.1                  56.19                94.22   \n",
       "2                    5.1                  22.18                81.27   \n",
       "3                    6.8                  27.66                93.05   \n",
       "4                    3.4                   8.68                95.58   \n",
       "\n",
       "   Race: % African American Alone  Race: % Asian Alone  Total County Tax Rate  \\\n",
       "0                           21.49                 0.90               0.590892   \n",
       "1                            1.94                 0.75               0.600700   \n",
       "2                           15.44                 1.17               0.458800   \n",
       "3                            1.79                 1.93               0.403315   \n",
       "4                            1.03                 0.43               0.675030   \n",
       "\n",
       "   Percent Urban  Per Capita Income  Population Density Per Sq Mile  \\\n",
       "0          32.94            33362.0                           55.01   \n",
       "1          83.50            43105.0                            9.85   \n",
       "2          56.92            37555.0                          108.77   \n",
       "3          72.74            44820.0                           91.87   \n",
       "4          11.01            47110.0                           10.03   \n",
       "\n",
       "   % Age 18-65  \n",
       "0        65.88  \n",
       "1        58.57  \n",
       "2        58.40  \n",
       "3        53.97  \n",
       "4        58.34  "
      ]
     },
     "execution_count": 267,
     "metadata": {},
     "output_type": "execute_result"
    }
   ],
   "source": [
    "#Use the remaining 20% of dataset as test set to evaluate model\n",
    "test_set = labeled_df.iloc[:start, :]\n",
    "test_set.to_csv('test_data.csv', index=False)\n",
    "test_set.head()"
   ]
  },
  {
   "cell_type": "code",
   "execution_count": 269,
   "metadata": {
    "collapsed": true
   },
   "outputs": [],
   "source": [
    "status, dataset = ds.upload_dataset(os.path.join(\"./\", \"test_data.csv\"))\n",
    "if not status:\n",
    "    print(dataset)"
   ]
  },
  {
   "cell_type": "code",
   "execution_count": 270,
   "metadata": {},
   "outputs": [
    {
     "name": "stdout",
     "output_type": "stream",
     "text": [
      "{'status': 'Requested', 'starttime': '2019-04-20T19:44:41.153452', 'endtime': None, 'percent_complete': 0, 'job_type': 'CleanDataTiny', 'loss': None, 'generations': None, 'dataset_names': ['test_data.csv'], 'artifact_names': ['a1c34abb310f423c97bc1bfc014bae36'], 'model_name': None, 'job_error': None}\n",
      "{'status': 'Complete', 'starttime': '2019-04-20T19:44:41.153452', 'endtime': '2019-04-20T19:44:42.53663', 'percent_complete': 100, 'job_type': 'CleanDataTiny', 'loss': None, 'generations': None, 'dataset_names': ['test_data.csv'], 'artifact_names': ['a1c34abb310f423c97bc1bfc014bae36'], 'model_name': None, 'job_error': ''}\n"
     ]
    }
   ],
   "source": [
    "# Clean test dataset\n",
    "target = \"2017-2018\"\n",
    "status, job_id = ds.clean_data(\"test_data.csv\", target = target, model_name = model)\n",
    "\n",
    "if status:\n",
    "    ds.wait_for_job(job_id['job_name'])\n",
    "else:\n",
    "    print(job_id)"
   ]
  },
  {
   "cell_type": "code",
   "execution_count": 271,
   "metadata": {},
   "outputs": [
    {
     "name": "stdout",
     "output_type": "stream",
     "text": [
      "{'status': 'Complete', 'starttime': '2019-04-20T19:45:06.495751', 'endtime': '2019-04-20T19:45:07.293297', 'percent_complete': 100, 'job_type': 'RunModel', 'loss': 0.3387911915779114, 'generations': 8, 'dataset_names': ['test_data.csv'], 'artifact_names': ['7869d70824104007affb5ba6ef51a86e'], 'model_name': 'Labels_model8_20190420165230', 'job_error': ''}\n"
     ]
    },
    {
     "data": {
      "text/plain": [
       "(True, 'Job completed')"
      ]
     },
     "execution_count": 271,
     "metadata": {},
     "output_type": "execute_result"
    }
   ],
   "source": [
    "status, artifact = ds.run_model(\"test_data.csv\", model)\n",
    "sleep(1)\n",
    "ds.wait_for_job(artifact['job_name'])"
   ]
  },
  {
   "cell_type": "code",
   "execution_count": 272,
   "metadata": {},
   "outputs": [
    {
     "data": {
      "text/html": [
       "<div>\n",
       "<style scoped>\n",
       "    .dataframe tbody tr th:only-of-type {\n",
       "        vertical-align: middle;\n",
       "    }\n",
       "\n",
       "    .dataframe tbody tr th {\n",
       "        vertical-align: top;\n",
       "    }\n",
       "\n",
       "    .dataframe thead th {\n",
       "        text-align: right;\n",
       "    }\n",
       "</style>\n",
       "<table border=\"1\" class=\"dataframe\">\n",
       "  <thead>\n",
       "    <tr style=\"text-align: right;\">\n",
       "      <th></th>\n",
       "      <th>2017-2018</th>\n",
       "    </tr>\n",
       "  </thead>\n",
       "  <tbody>\n",
       "    <tr>\n",
       "      <th>0</th>\n",
       "      <td>0.007787</td>\n",
       "    </tr>\n",
       "    <tr>\n",
       "      <th>1</th>\n",
       "      <td>0.008724</td>\n",
       "    </tr>\n",
       "    <tr>\n",
       "      <th>2</th>\n",
       "      <td>0.006418</td>\n",
       "    </tr>\n",
       "    <tr>\n",
       "      <th>3</th>\n",
       "      <td>0.006054</td>\n",
       "    </tr>\n",
       "    <tr>\n",
       "      <th>4</th>\n",
       "      <td>0.015113</td>\n",
       "    </tr>\n",
       "  </tbody>\n",
       "</table>\n",
       "</div>"
      ],
      "text/plain": [
       "   2017-2018\n",
       "0   0.007787\n",
       "1   0.008724\n",
       "2   0.006418\n",
       "3   0.006054\n",
       "4   0.015113"
      ]
     },
     "execution_count": 272,
     "metadata": {},
     "output_type": "execute_result"
    }
   ],
   "source": [
    "status, prediction = ds.download_artifact(artifact['artifact_name'])\n",
    "prediction.head()"
   ]
  },
  {
   "cell_type": "code",
   "execution_count": 273,
   "metadata": {},
   "outputs": [
    {
     "name": "stdout",
     "output_type": "stream",
     "text": [
      "R^2 :  0.37680730607791324\n"
     ]
    },
    {
     "data": {
      "image/png": "[encoded data removed]",
      "text/plain": [
       "<matplotlib.figure.Figure at 0x116237518>"
      ]
     },
     "metadata": {},
     "output_type": "display_data"
    }
   ],
   "source": [
    "#Plot predictions vs actual\n",
    "plt.plot(test_set[\"2017-2018\"], prediction[\"2017-2018\"], '.')\n",
    "print('R^2 : ', r2_score(test_set[\"2017-2018\"], prediction[\"2017-2018\"]))"
   ]
  },
  {
   "cell_type": "code",
   "execution_count": 274,
   "metadata": {},
   "outputs": [
    {
     "name": "stdout",
     "output_type": "stream",
     "text": [
      "[{'layer 1': {'type': 'LinearGene', 'parameters': {'activation': 'relu', 'numunits': 2}}}, {'layer 2': {'type': 'LinearGene', 'parameters': {'activation': 'hardtanh', 'numunits': 58}}}, {'layer 3': {'type': 'LinearGene', 'parameters': {'activation': 'leakyrelu', 'numunits': 1}}}]\n"
     ]
    }
   ],
   "source": [
    "status, model_type = ds.lookup_model_name(model)\n",
    "print(model_type['description']['best_genome'])"
   ]
  }
 ],
 "metadata": {
  "anaconda-cloud": {},
  "kernelspec": {
   "display_name": "Python 3",
   "language": "python",
   "name": "python3"
  },
  "language_info": {
   "codemirror_mode": {
    "name": "ipython",
    "version": 3
   },
   "file_extension": ".py",
   "mimetype": "text/x-python",
   "name": "python",
   "nbconvert_exporter": "python",
   "pygments_lexer": "ipython3",
   "version": "3.6.2"
  }
 },
 "nbformat": 4,
 "nbformat_minor": 2
}
