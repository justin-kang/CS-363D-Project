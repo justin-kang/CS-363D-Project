{
 "cells": [
  {
   "cell_type": "markdown",
   "metadata": {},
   "source": [
    "<h1><center>Darwin Supervised Regression Model Building </center></h1>"
   ]
  },
  {
   "cell_type": "markdown",
   "metadata": {},
   "source": [
    "First, \n",
    "<br>if you have just received a new api key from support, you will need to register your key and create a new user (see Register user cell)\n",
    "\n",
    "Second, in the Environment Variables cell: \n",
    "1. Set your username and password to ensure that you're able to log in successfully\n",
    "2. Set the path to the location of your datasets if you are using your own data.  The path is set for the examples.\n",
    "3. Set the dataset names accordingly\n",
    "\n",
    "Here are a few things to be mindful of:\n",
    "1. For every run, check the job status (i.e. requested, failed, running, completed) and wait for job to complete before proceeding. \n",
    "2. If you're not satisfied with your model and think that Darwin can benefit from extra training, use the resume function."
   ]
  },
  {
   "cell_type": "markdown",
   "metadata": {},
   "source": [
    "### Set Darwin SDK"
   ]
  },
  {
   "cell_type": "code",
   "execution_count": 4,
   "metadata": {},
   "outputs": [
    {
     "data": {
      "text/plain": [
       "(True, 'https://amb-demo-api.sparkcognition.com/v1/')"
      ]
     },
     "execution_count": 4,
     "metadata": {},
     "output_type": "execute_result"
    }
   ],
   "source": [
    "from amb_sdk.sdk import DarwinSdk\n",
    "ds = DarwinSdk()\n",
    "ds.set_url('https://amb-demo-api.sparkcognition.com/v1/');"
   ]
  },
  {
   "cell_type": "markdown",
   "metadata": {},
   "source": [
    "### Environment Variables"
   ]
  },
  {
   "cell_type": "code",
   "execution_count": 5,
   "metadata": {
    "collapsed": true
   },
   "outputs": [],
   "source": [
    "#Set your user id and password accordingly\n",
    "USER=\"justin.kang23@gmail.com\"\n",
    "PW=\"psjf52vRYb\"\n",
    "\n",
    "# Set path to datasets - The default below assumes Jupyter was started from amb-sdk/examples/Enterprise/\n",
    "# Modify accordingly if you wish to use your own data\n",
    "PATH_TO_DATASET='data/'\n",
    "DATASET_NAME='data.csv'\n",
    "\n",
    "# A timestamp is used to create a unique name in the event you execute the workflow multiple times or with \n",
    "# different datasets.  File names must be unique in Darwin.\n",
    "import datetime\n",
    "ts = '{:%Y%m%d%H%M%S}'.format(datetime.datetime.now())"
   ]
  },
  {
   "cell_type": "markdown",
   "metadata": {},
   "source": [
    "### Import necessary libraries"
   ]
  },
  {
   "cell_type": "code",
   "execution_count": 6,
   "metadata": {
    "collapsed": true,
    "scrolled": true
   },
   "outputs": [],
   "source": [
    "# Import necessary libraries\n",
    "%matplotlib inline\n",
    "import matplotlib.pyplot as plt\n",
    "import pandas as pd\n",
    "from IPython.display import Image\n",
    "from time import sleep\n",
    "import os\n",
    "import numpy as np\n",
    "from sklearn.metrics import r2_score"
   ]
  },
  {
   "cell_type": "markdown",
   "metadata": {},
   "source": [
    "### User Login "
   ]
  },
  {
   "cell_type": "code",
   "execution_count": 7,
   "metadata": {
    "collapsed": true
   },
   "outputs": [],
   "source": [
    "status, msg = ds.auth_login_user(USER,PW)\n",
    "if not status:\n",
    "    print(msg)"
   ]
  },
  {
   "cell_type": "markdown",
   "metadata": {},
   "source": [
    "### Data Upload"
   ]
  },
  {
   "cell_type": "markdown",
   "metadata": {},
   "source": [
    "**Read dataset and view a file snippet**"
   ]
  },
  {
   "cell_type": "code",
   "execution_count": 43,
   "metadata": {},
   "outputs": [
    {
     "name": "stdout",
     "output_type": "stream",
     "text": [
      "age.csv\n",
      "education.csv\n",
      "ethnicity.csv\n",
      "financial.csv\n",
      "general.csv\n",
      "income.csv\n",
      "population.csv\n",
      "tax.csv\n"
     ]
    },
    {
     "data": {
      "text/html": [
       "<div>\n",
       "<style scoped>\n",
       "    .dataframe tbody tr th:only-of-type {\n",
       "        vertical-align: middle;\n",
       "    }\n",
       "\n",
       "    .dataframe tbody tr th {\n",
       "        vertical-align: top;\n",
       "    }\n",
       "\n",
       "    .dataframe thead th {\n",
       "        text-align: right;\n",
       "    }\n",
       "</style>\n",
       "<table border=\"1\" class=\"dataframe\">\n",
       "  <thead>\n",
       "    <tr style=\"text-align: right;\">\n",
       "      <th></th>\n",
       "      <th>County</th>\n",
       "      <th>2010-2011</th>\n",
       "      <th>2011-2012</th>\n",
       "      <th>2012-2013</th>\n",
       "      <th>2013-2014</th>\n",
       "      <th>2014-2015</th>\n",
       "      <th>2015-2016</th>\n",
       "      <th>2016-2017</th>\n",
       "      <th>2017-2018</th>\n",
       "      <th>Median Age</th>\n",
       "      <th>...</th>\n",
       "      <th>County Population</th>\n",
       "      <th>Population Density Per Sq Mile</th>\n",
       "      <th>County Seat</th>\n",
       "      <th>County Seat Population</th>\n",
       "      <th>General Fund M&amp;O Tax Rate</th>\n",
       "      <th>General Fund I&amp;S Tax Rate</th>\n",
       "      <th>Special Road &amp; Bridge Fund M&amp;O Tax Rate</th>\n",
       "      <th>Special Road &amp; Bridge Fund I&amp;S Tax Rate</th>\n",
       "      <th>Farm-to-Market/Flood Control Fund M&amp;O Tax Rate</th>\n",
       "      <th>Farm-to-Market/Flood Control I&amp;S Tax Rate</th>\n",
       "    </tr>\n",
       "  </thead>\n",
       "  <tbody>\n",
       "    <tr>\n",
       "      <th>0</th>\n",
       "      <td>Andrews</td>\n",
       "      <td>0.36%</td>\n",
       "      <td>0.52%</td>\n",
       "      <td>0.63%</td>\n",
       "      <td>0.66%</td>\n",
       "      <td>0.82%</td>\n",
       "      <td>0.75%</td>\n",
       "      <td>0.90%</td>\n",
       "      <td>1.07%</td>\n",
       "      <td>31.8</td>\n",
       "      <td>...</td>\n",
       "      <td>17,722</td>\n",
       "      <td>9.85</td>\n",
       "      <td>Andrews</td>\n",
       "      <td>11,088</td>\n",
       "      <td>$0.438400</td>\n",
       "      <td>$0.000000</td>\n",
       "      <td>$0.077300</td>\n",
       "      <td>$0.000000</td>\n",
       "      <td>$0.085000</td>\n",
       "      <td>$0.000000</td>\n",
       "    </tr>\n",
       "    <tr>\n",
       "      <th>1</th>\n",
       "      <td>Angelina</td>\n",
       "      <td>0.33%</td>\n",
       "      <td>0.44%</td>\n",
       "      <td>0.46%</td>\n",
       "      <td>0.55%</td>\n",
       "      <td>0.49%</td>\n",
       "      <td>0.70%</td>\n",
       "      <td>0.63%</td>\n",
       "      <td>0.67%</td>\n",
       "      <td>37.1</td>\n",
       "      <td>...</td>\n",
       "      <td>87,805</td>\n",
       "      <td>108.77</td>\n",
       "      <td>Lufkin</td>\n",
       "      <td>35,067</td>\n",
       "      <td>$0.369130</td>\n",
       "      <td>$0.020480</td>\n",
       "      <td>$0.069190</td>\n",
       "      <td>$0.000000</td>\n",
       "      <td>$0.000000</td>\n",
       "      <td>$0.000000</td>\n",
       "    </tr>\n",
       "    <tr>\n",
       "      <th>2</th>\n",
       "      <td>Aransas</td>\n",
       "      <td>0.25%</td>\n",
       "      <td>0.46%</td>\n",
       "      <td>0.52%</td>\n",
       "      <td>0.98%</td>\n",
       "      <td>1.20%</td>\n",
       "      <td>1.22%</td>\n",
       "      <td>1.39%</td>\n",
       "      <td>1.49%</td>\n",
       "      <td>49.3</td>\n",
       "      <td>...</td>\n",
       "      <td>25,572</td>\n",
       "      <td>91.87</td>\n",
       "      <td>Rockport</td>\n",
       "      <td>8,766</td>\n",
       "      <td>$0.281598</td>\n",
       "      <td>$0.052278</td>\n",
       "      <td>$0.000000</td>\n",
       "      <td>$0.000000</td>\n",
       "      <td>$0.055222</td>\n",
       "      <td>$0.014217</td>\n",
       "    </tr>\n",
       "    <tr>\n",
       "      <th>3</th>\n",
       "      <td>Archer</td>\n",
       "      <td>0.60%</td>\n",
       "      <td>0.49%</td>\n",
       "      <td>0.61%</td>\n",
       "      <td>0.33%</td>\n",
       "      <td>0.56%</td>\n",
       "      <td>0.61%</td>\n",
       "      <td>0.45%</td>\n",
       "      <td>0.81%</td>\n",
       "      <td>44.3</td>\n",
       "      <td>...</td>\n",
       "      <td>8,809</td>\n",
       "      <td>10.03</td>\n",
       "      <td>Archer City</td>\n",
       "      <td>1,834</td>\n",
       "      <td>$0.457730</td>\n",
       "      <td>$0.071500</td>\n",
       "      <td>$0.046380</td>\n",
       "      <td>$0.038110</td>\n",
       "      <td>$0.061310</td>\n",
       "      <td>$0.000000</td>\n",
       "    </tr>\n",
       "    <tr>\n",
       "      <th>4</th>\n",
       "      <td>Armstrong</td>\n",
       "      <td>0.59%</td>\n",
       "      <td>1.43%</td>\n",
       "      <td>1.44%</td>\n",
       "      <td>1.98%</td>\n",
       "      <td>2.06%</td>\n",
       "      <td>0.59%</td>\n",
       "      <td>1.90%</td>\n",
       "      <td>1.44%</td>\n",
       "      <td>45.2</td>\n",
       "      <td>...</td>\n",
       "      <td>1,879</td>\n",
       "      <td>2.09</td>\n",
       "      <td>Claude</td>\n",
       "      <td>1,196</td>\n",
       "      <td>$0.444128</td>\n",
       "      <td>$0.000000</td>\n",
       "      <td>$0.000000</td>\n",
       "      <td>$0.000000</td>\n",
       "      <td>$0.218671</td>\n",
       "      <td>$0.000000</td>\n",
       "    </tr>\n",
       "  </tbody>\n",
       "</table>\n",
       "<p>5 rows × 49 columns</p>\n",
       "</div>"
      ],
      "text/plain": [
       "      County 2010-2011 2011-2012 2012-2013 2013-2014 2014-2015 2015-2016  \\\n",
       "0    Andrews     0.36%     0.52%     0.63%     0.66%     0.82%     0.75%   \n",
       "1   Angelina     0.33%     0.44%     0.46%     0.55%     0.49%     0.70%   \n",
       "2    Aransas     0.25%     0.46%     0.52%     0.98%     1.20%     1.22%   \n",
       "3     Archer     0.60%     0.49%     0.61%     0.33%     0.56%     0.61%   \n",
       "4  Armstrong     0.59%     1.43%     1.44%     1.98%     2.06%     0.59%   \n",
       "\n",
       "  2016-2017 2017-2018  Median Age                    ...                      \\\n",
       "0     0.90%     1.07%        31.8                    ...                       \n",
       "1     0.63%     0.67%        37.1                    ...                       \n",
       "2     1.39%     1.49%        49.3                    ...                       \n",
       "3     0.45%     0.81%        44.3                    ...                       \n",
       "4     1.90%     1.44%        45.2                    ...                       \n",
       "\n",
       "   County Population   Population Density Per Sq Mile  County Seat  \\\n",
       "0             17,722                             9.85      Andrews   \n",
       "1             87,805                           108.77       Lufkin   \n",
       "2             25,572                            91.87     Rockport   \n",
       "3              8,809                            10.03  Archer City   \n",
       "4              1,879                             2.09       Claude   \n",
       "\n",
       "   County Seat Population  General Fund M&O Tax Rate  \\\n",
       "0                 11,088                  $0.438400    \n",
       "1                 35,067                  $0.369130    \n",
       "2                  8,766                  $0.281598    \n",
       "3                  1,834                  $0.457730    \n",
       "4                  1,196                  $0.444128    \n",
       "\n",
       "   General Fund I&S Tax Rate  Special Road & Bridge Fund M&O Tax Rate  \\\n",
       "0                 $0.000000                                $0.077300    \n",
       "1                 $0.020480                                $0.069190    \n",
       "2                 $0.052278                                $0.000000    \n",
       "3                 $0.071500                                $0.046380    \n",
       "4                 $0.000000                                $0.000000    \n",
       "\n",
       "   Special Road & Bridge Fund I&S Tax Rate  \\\n",
       "0                               $0.000000    \n",
       "1                               $0.000000    \n",
       "2                               $0.000000    \n",
       "3                               $0.038110    \n",
       "4                               $0.000000    \n",
       "\n",
       "   Farm-to-Market/Flood Control Fund M&O Tax Rate  \\\n",
       "0                                       $0.085000   \n",
       "1                                       $0.000000   \n",
       "2                                       $0.055222   \n",
       "3                                       $0.061310   \n",
       "4                                       $0.218671   \n",
       "\n",
       "   Farm-to-Market/Flood Control I&S Tax Rate  \n",
       "0                                 $0.000000   \n",
       "1                                 $0.000000   \n",
       "2                                 $0.014217   \n",
       "3                                 $0.000000   \n",
       "4                                 $0.000000   \n",
       "\n",
       "[5 rows x 49 columns]"
      ]
     },
     "execution_count": 43,
     "metadata": {},
     "output_type": "execute_result"
    }
   ],
   "source": [
    "# Preview dataset\n",
    "df = pd.read_csv(os.path.join(PATH_TO_DATASET, 'exemptions.csv'))\n",
    "df.drop(df.tail(1).index,inplace=True)\n",
    "\n",
    "\n",
    "for file in os.listdir(PATH_TO_DATASET):\n",
    "    if 'csv' in file and 'exemptions' not in file: #dont add column twice\n",
    "        print(file)\n",
    "        df2=pd.read_csv(os.path.join(PATH_TO_DATASET, file)).iloc[1:]\n",
    "        df=df.merge(df2, on='County')\n",
    "df.head()"
   ]
  },
  {
   "cell_type": "markdown",
   "metadata": {},
   "source": [
    "**Upload dataset to Darwin**"
   ]
  },
  {
   "cell_type": "code",
   "execution_count": 12,
   "metadata": {
    "collapsed": true,
    "scrolled": true
   },
   "outputs": [],
   "source": [
    "# Upload dataset\n",
    "status, dataset = ds.upload_dataset(os.path.join(PATH_TO_DATASET, DATASET_NAME))\n",
    "if not status:\n",
    "    print(dataset)"
   ]
  },
  {
   "cell_type": "markdown",
   "metadata": {},
   "source": [
    "**Clean dataset**"
   ]
  },
  {
   "cell_type": "code",
   "execution_count": null,
   "metadata": {
    "collapsed": true
   },
   "outputs": [],
   "source": [
    "# clean dataset\n",
    "target = \"Assessed_Value\"\n",
    "status, job_id = ds.clean_data(DATASET_NAME, target = target)\n",
    "\n",
    "if status:\n",
    "    ds.wait_for_job(job_id['job_name'])\n",
    "else:\n",
    "    print(job_id)"
   ]
  },
  {
   "cell_type": "markdown",
   "metadata": {},
   "source": [
    "### Create and Train Model "
   ]
  },
  {
   "cell_type": "markdown",
   "metadata": {},
   "source": [
    "We will now build a model that will learn the class labels in the target column.<br> In the default boston dataset, the target column is \"Assessed_Value\". <br> You will have to specify your own target name for your custom dataset. <br> You can also increase max_train_time for longer training.\n"
   ]
  },
  {
   "cell_type": "code",
   "execution_count": null,
   "metadata": {
    "collapsed": true,
    "scrolled": true
   },
   "outputs": [],
   "source": [
    "model = target + \"_model0\" + ts\n",
    "status, job_id = ds.create_model(dataset_names = DATASET_NAME, \\\n",
    "                                 model_name =  model, \\\n",
    "                                 max_train_time = '00:02')\n",
    "if status:\n",
    "    ds.wait_for_job(job_id['job_name'])\n",
    "else:\n",
    "    print(job_id)"
   ]
  },
  {
   "cell_type": "markdown",
   "metadata": {},
   "source": [
    "### Extra Training (Optional)\n",
    "Run the following cell for extra training, no need to specify parameters"
   ]
  },
  {
   "cell_type": "code",
   "execution_count": null,
   "metadata": {
    "collapsed": true
   },
   "outputs": [],
   "source": [
    "# Train some more\n",
    "status, job_id = ds.resume_training_model(dataset_names = DATASET_NAME,\n",
    "                                          model_name = model,\n",
    "                                          max_train_time = '00:05')\n",
    "                                          \n",
    "if status:\n",
    "    ds.wait_for_job(job_id['job_name'])\n",
    "else:\n",
    "    print(job_id)"
   ]
  },
  {
   "cell_type": "markdown",
   "metadata": {},
   "source": [
    "### Analyze Model\n",
    "Analyze model provides feature importance ranked by the model. <br> It indicates a general view of which features pose a bigger impact on the model"
   ]
  },
  {
   "cell_type": "code",
   "execution_count": null,
   "metadata": {
    "collapsed": true,
    "scrolled": true
   },
   "outputs": [],
   "source": [
    "# Retrieve feature importance of built model\n",
    "status, artifact = ds.analyze_model(model)\n",
    "sleep(1)\n",
    "if status:\n",
    "    ds.wait_for_job(artifact['job_name'])\n",
    "else:\n",
    "    print(artifact)\n",
    "status, feature_importance = ds.download_artifact(artifact['artifact_name'])"
   ]
  },
  {
   "cell_type": "markdown",
   "metadata": {},
   "source": [
    "Show the 10 most important features of the model."
   ]
  },
  {
   "cell_type": "code",
   "execution_count": null,
   "metadata": {
    "collapsed": true
   },
   "outputs": [],
   "source": [
    "feature_importance[:10]"
   ]
  },
  {
   "cell_type": "markdown",
   "metadata": {},
   "source": [
    "### Predictions\n",
    "**Perform model prediction on the the training dataset.**"
   ]
  },
  {
   "cell_type": "code",
   "execution_count": null,
   "metadata": {
    "collapsed": true,
    "scrolled": true
   },
   "outputs": [],
   "source": [
    "status, artifact = ds.run_model(DATASET_NAME, model)\n",
    "sleep(1)\n",
    "ds.wait_for_job(artifact['job_name'])"
   ]
  },
  {
   "cell_type": "markdown",
   "metadata": {},
   "source": [
    "Download predictions from Darwin's server."
   ]
  },
  {
   "cell_type": "code",
   "execution_count": null,
   "metadata": {
    "collapsed": true,
    "scrolled": true
   },
   "outputs": [],
   "source": [
    "status, prediction = ds.download_artifact(artifact['artifact_name'])\n",
    "prediction.head()"
   ]
  },
  {
   "cell_type": "markdown",
   "metadata": {},
   "source": [
    "Create plots comparing predictions with actual target"
   ]
  },
  {
   "cell_type": "code",
   "execution_count": null,
   "metadata": {
    "collapsed": true,
    "scrolled": true
   },
   "outputs": [],
   "source": [
    "#Plot predictions vs actual\n",
    "plt.plot(df[target], prediction[target], '.')\n",
    "plt.plot([0,2.3e7],[0,2.3e7],'--k')\n",
    "print('R^2 : ', r2_score(df[target], prediction[target]))"
   ]
  },
  {
   "cell_type": "markdown",
   "metadata": {},
   "source": [
    "### Find out which machine learning model did Darwin use:"
   ]
  },
  {
   "cell_type": "code",
   "execution_count": null,
   "metadata": {
    "collapsed": true
   },
   "outputs": [],
   "source": [
    "status, model_type = ds.lookup_model_name(model)\n",
    "print(model_type['description']['best_genome'])"
   ]
  }
 ],
 "metadata": {
  "anaconda-cloud": {},
  "kernelspec": {
   "display_name": "Python 3",
   "language": "python",
   "name": "python3"
  },
  "language_info": {
   "codemirror_mode": {
    "name": "ipython",
    "version": 3
   },
   "file_extension": ".py",
   "mimetype": "text/x-python",
   "name": "python",
   "nbconvert_exporter": "python",
   "pygments_lexer": "ipython3",
   "version": "3.6.2"
  }
 },
 "nbformat": 4,
 "nbformat_minor": 2
}
